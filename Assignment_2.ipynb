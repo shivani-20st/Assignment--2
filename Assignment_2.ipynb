{
  "nbformat": 4,
  "nbformat_minor": 0,
  "metadata": {
    "colab": {
      "provenance": []
    },
    "kernelspec": {
      "name": "python3",
      "display_name": "Python 3"
    },
    "language_info": {
      "name": "python"
    }
  },
  "cells": [
    {
      "cell_type": "markdown",
      "source": [
        "# TASK - 1"
      ],
      "metadata": {
        "id": "70dqEPZwX-9p"
      }
    },
    {
      "cell_type": "code",
      "source": [
        "from google.colab import drive\n",
        "drive.mount('/content/drive')"
      ],
      "metadata": {
        "colab": {
          "base_uri": "https://localhost:8080/"
        },
        "id": "8lJTdXdoLfMo",
        "outputId": "b417d5a1-9f2d-4f87-d9fb-ba155571ab19"
      },
      "execution_count": 1,
      "outputs": [
        {
          "output_type": "stream",
          "name": "stdout",
          "text": [
            "Mounted at /content/drive\n"
          ]
        }
      ]
    },
    {
      "cell_type": "code",
      "execution_count": 2,
      "metadata": {
        "id": "e5Ql4n6jFFYe"
      },
      "outputs": [],
      "source": [
        "def preprocess_insurance_data(filepath):\n",
        "    cleaned_data = []\n",
        "\n",
        "    with open(filepath, 'r') as file:\n",
        "        headers = file.readline().strip().split(',')\n",
        "\n",
        "        for line in file:\n",
        "            row = line.strip().split(',')\n",
        "            if len(row) != len(headers):\n",
        "                continue\n",
        "\n",
        "            data_dict = {}\n",
        "            for i, value in enumerate(row):\n",
        "                key = headers[i].strip()\n",
        "                val = value.strip()\n",
        "\n",
        "\n",
        "                if val.lower() in [\"\", \"null\", \"none\", \"na\"]:\n",
        "                    val = None\n",
        "\n",
        "\n",
        "                if key.upper() in ['CLAIM_AMOUNT', 'PREMIUM_COLLECTED', 'PAID_AMOUNT'] and val is not None:\n",
        "                    try:\n",
        "                        val = float(val)\n",
        "                    except:\n",
        "                        val = None\n",
        "\n",
        "                data_dict[key.upper()] = val\n",
        "\n",
        "\n",
        "            if data_dict.get('CLAIM_AMOUNT') is None and data_dict.get('PAID_AMOUNT') is not None:\n",
        "                data_dict['CLAIM_AMOUNT'] = data_dict['PAID_AMOUNT']\n",
        "\n",
        "            if data_dict.get('PAID_AMOUNT') is None and data_dict.get('CLAIM_AMOUNT') is not None:\n",
        "                data_dict['PAID_AMOUNT'] = 0.0\n",
        "\n",
        "            if data_dict.get('PREMIUM_COLLECTED') is None:\n",
        "                data_dict['PREMIUM_COLLECTED'] = 0.0\n",
        "\n",
        "            cleaned_data.append(data_dict)\n",
        "\n",
        "    return cleaned_data\n",
        "\n",
        "\n",
        "filename = '/content/drive/MyDrive/Insurance_auto_data.csv'\n",
        "\n",
        "\n",
        "cleaned_data = preprocess_insurance_data(filename)"
      ]
    },
    {
      "cell_type": "code",
      "source": [
        "data = preprocess_insurance_data('/content/drive/MyDrive/Insurance_auto_data.csv')\n",
        "print(data)\n"
      ],
      "metadata": {
        "colab": {
          "base_uri": "https://localhost:8080/"
        },
        "id": "9oRwtNjjMGoq",
        "outputId": "30e4ed9a-1882-46d3-f73e-dcf7d1cc8bf5"
      },
      "execution_count": 3,
      "outputs": [
        {
          "output_type": "stream",
          "name": "stdout",
          "text": [
            "[{'CLAIM_ID': 'CLM100021', 'CLAIM_DATE': '2025-04-01', 'CUSTOMER_ID': 'CUST14285', 'CLAIM_AMOUNT': 10419.0, 'PREMIUM_COLLECTED': 2198.59, 'PAID_AMOUNT': 6964.46, 'CITY': 'PUNE', 'REJECTION_REMARKS': None}, {'CLAIM_ID': 'CLM100013', 'CLAIM_DATE': '2025-04-01', 'CUSTOMER_ID': 'CUST26471', 'CLAIM_AMOUNT': 42468.0, 'PREMIUM_COLLECTED': 8982.2, 'PAID_AMOUNT': 30119.67, 'CITY': 'GUWAHATI', 'REJECTION_REMARKS': None}, {'CLAIM_ID': 'CLM100099', 'CLAIM_DATE': '2025-04-02', 'CUSTOMER_ID': 'CUST29309', 'CLAIM_AMOUNT': 55897.0, 'PREMIUM_COLLECTED': 1861.78, 'PAID_AMOUNT': 55657.15, 'CITY': 'GUWAHATI', 'REJECTION_REMARKS': None}, {'CLAIM_ID': 'CLM100044', 'CLAIM_DATE': '2025-04-02', 'CUSTOMER_ID': 'CUST30275', 'CLAIM_AMOUNT': 71785.0, 'PREMIUM_COLLECTED': 13154.99, 'PAID_AMOUNT': 53629.3, 'CITY': 'PUNE', 'REJECTION_REMARKS': None}, {'CLAIM_ID': 'CLM100014', 'CLAIM_DATE': '2025-04-02', 'CUSTOMER_ID': 'CUST38169', 'CLAIM_AMOUNT': 18565.0, 'PREMIUM_COLLECTED': 2606.4, 'PAID_AMOUNT': 12849.24, 'CITY': 'RANCHI', 'REJECTION_REMARKS': None}, {'CLAIM_ID': 'CLM100062', 'CLAIM_DATE': '2025-04-02', 'CUSTOMER_ID': 'CUST41634', 'CLAIM_AMOUNT': 84513.0, 'PREMIUM_COLLECTED': 11166.17, 'PAID_AMOUNT': 84503.26, 'CITY': 'KOLKATA', 'REJECTION_REMARKS': None}, {'CLAIM_ID': 'CLM100010', 'CLAIM_DATE': '2025-04-03', 'CUSTOMER_ID': 'CUST52415', 'CLAIM_AMOUNT': 22774.0, 'PREMIUM_COLLECTED': 15202.22, 'PAID_AMOUNT': 12105.48, 'CITY': 'KOLKATA', 'REJECTION_REMARKS': None}, {'CLAIM_ID': 'CLM100012', 'CLAIM_DATE': '2025-04-03', 'CUSTOMER_ID': 'CUST19944', 'CLAIM_AMOUNT': 22162.0, 'PREMIUM_COLLECTED': 5361.39, 'PAID_AMOUNT': 19091.03, 'CITY': 'RANCHI', 'REJECTION_REMARKS': None}, {'CLAIM_ID': 'CLM100029', 'CLAIM_DATE': '2025-04-04', 'CUSTOMER_ID': 'CUST62992', 'CLAIM_AMOUNT': 3196.0, 'PREMIUM_COLLECTED': 11752.93, 'PAID_AMOUNT': 2084.27, 'CITY': 'PUNE', 'REJECTION_REMARKS': None}, {'CLAIM_ID': 'CLM100053', 'CLAIM_DATE': '2025-04-04', 'CUSTOMER_ID': 'CUST11673', 'CLAIM_AMOUNT': 27306.0, 'PREMIUM_COLLECTED': 8940.45, 'PAID_AMOUNT': 24832.11, 'CITY': 'PUNE', 'REJECTION_REMARKS': None}, {'CLAIM_ID': 'CLM100054', 'CLAIM_DATE': '2025-04-04', 'CUSTOMER_ID': 'CUST37231', 'CLAIM_AMOUNT': 26367.0, 'PREMIUM_COLLECTED': 1909.22, 'PAID_AMOUNT': 22294.92, 'CITY': 'PUNE', 'REJECTION_REMARKS': None}, {'CLAIM_ID': 'CLM100006', 'CLAIM_DATE': '2025-04-05', 'CUSTOMER_ID': 'CUST40797', 'CLAIM_AMOUNT': 83571.0, 'PREMIUM_COLLECTED': 3461.14, 'PAID_AMOUNT': 68199.38, 'CITY': 'PUNE', 'REJECTION_REMARKS': None}, {'CLAIM_ID': 'CLM100001', 'CLAIM_DATE': '2025-04-05', 'CUSTOMER_ID': 'CUST71468', 'CLAIM_AMOUNT': 12164.0, 'PREMIUM_COLLECTED': 16583.82, 'PAID_AMOUNT': 6495.73, 'CITY': 'GUWAHATI', 'REJECTION_REMARKS': None}, {'CLAIM_ID': 'CLM100003', 'CLAIM_DATE': '2025-04-05', 'CUSTOMER_ID': 'CUST71877', 'CLAIM_AMOUNT': 99944.0, 'PREMIUM_COLLECTED': 3081.83, 'PAID_AMOUNT': 79950.47, 'CITY': 'PUNE', 'REJECTION_REMARKS': None}, {'CLAIM_ID': 'CLM100061', 'CLAIM_DATE': '2025-04-05', 'CUSTOMER_ID': 'CUST74127', 'CLAIM_AMOUNT': 72838.0, 'PREMIUM_COLLECTED': 5126.2, 'PAID_AMOUNT': 65347.46, 'CITY': 'RANCHI', 'REJECTION_REMARKS': None}, {'CLAIM_ID': 'CLM100085', 'CLAIM_DATE': '2025-04-06', 'CUSTOMER_ID': 'CUST31609', 'CLAIM_AMOUNT': 89362.0, 'PREMIUM_COLLECTED': 0.0, 'PAID_AMOUNT': 71995.54, 'CITY': 'KOLKATA', 'REJECTION_REMARKS': None}, {'CLAIM_ID': 'CLM100080', 'CLAIM_DATE': '2025-04-06', 'CUSTOMER_ID': 'CUST38358', 'CLAIM_AMOUNT': 73417.0, 'PREMIUM_COLLECTED': 8409.15, 'PAID_AMOUNT': 59605.08, 'CITY': 'GUWAHATI', 'REJECTION_REMARKS': None}, {'CLAIM_ID': 'CLM100089', 'CLAIM_DATE': '2025-04-06', 'CUSTOMER_ID': 'CUST80026', 'CLAIM_AMOUNT': 56281.0, 'PREMIUM_COLLECTED': 0.0, 'PAID_AMOUNT': 47278.36, 'CITY': 'KOLKATA', 'REJECTION_REMARKS': None}, {'CLAIM_ID': 'CLM100027', 'CLAIM_DATE': '2025-04-06', 'CUSTOMER_ID': 'CUST14047', 'CLAIM_AMOUNT': 53417.11, 'PREMIUM_COLLECTED': 13263.85, 'PAID_AMOUNT': 53417.11, 'CITY': 'PUNE', 'REJECTION_REMARKS': None}, {'CLAIM_ID': 'CLM100063', 'CLAIM_DATE': '2025-04-06', 'CUSTOMER_ID': 'CUST79802', 'CLAIM_AMOUNT': 53521.0, 'PREMIUM_COLLECTED': 6786.32, 'PAID_AMOUNT': 34028.19, 'CITY': 'GUWAHATI', 'REJECTION_REMARKS': None}, {'CLAIM_ID': 'CLM100070', 'CLAIM_DATE': '2025-04-07', 'CUSTOMER_ID': 'CUST86689', 'CLAIM_AMOUNT': 51976.0, 'PREMIUM_COLLECTED': 16601.46, 'PAID_AMOUNT': 26393.35, 'CITY': 'PUNE', 'REJECTION_REMARKS': None}, {'CLAIM_ID': 'CLM100081', 'CLAIM_DATE': '2025-04-07', 'CUSTOMER_ID': 'CUST52716', 'CLAIM_AMOUNT': 12185.0, 'PREMIUM_COLLECTED': 6212.4, 'PAID_AMOUNT': 11878.02, 'CITY': 'RANCHI', 'REJECTION_REMARKS': None}, {'CLAIM_ID': 'CLM100068', 'CLAIM_DATE': '2025-04-07', 'CUSTOMER_ID': 'CUST86414', 'CLAIM_AMOUNT': 31302.0, 'PREMIUM_COLLECTED': 3032.33, 'PAID_AMOUNT': 16219.79, 'CITY': 'PUNE', 'REJECTION_REMARKS': None}, {'CLAIM_ID': 'CLM100094', 'CLAIM_DATE': '2025-04-07', 'CUSTOMER_ID': 'CUST54178', 'CLAIM_AMOUNT': 31102.0, 'PREMIUM_COLLECTED': 0.0, 'PAID_AMOUNT': 20968.0, 'CITY': 'KOLKATA', 'REJECTION_REMARKS': None}, {'CLAIM_ID': 'CLM100066', 'CLAIM_DATE': '2025-04-07', 'CUSTOMER_ID': 'CUST94430', 'CLAIM_AMOUNT': 62146.0, 'PREMIUM_COLLECTED': 17861.9, 'PAID_AMOUNT': 59642.65, 'CITY': 'GUWAHATI', 'REJECTION_REMARKS': None}, {'CLAIM_ID': 'CLM100033', 'CLAIM_DATE': '2025-04-08', 'CUSTOMER_ID': 'CUST36174', 'CLAIM_AMOUNT': 57183.0, 'PREMIUM_COLLECTED': 19074.86, 'PAID_AMOUNT': 51997.18, 'CITY': 'GUWAHATI', 'REJECTION_REMARKS': None}, {'CLAIM_ID': 'CLM100039', 'CLAIM_DATE': '2025-04-08', 'CUSTOMER_ID': 'CUST83721', 'CLAIM_AMOUNT': 25254.26, 'PREMIUM_COLLECTED': 12015.1, 'PAID_AMOUNT': 25254.26, 'CITY': 'PUNE', 'REJECTION_REMARKS': None}, {'CLAIM_ID': 'CLM100009', 'CLAIM_DATE': '2025-04-08', 'CUSTOMER_ID': 'CUST58755', 'CLAIM_AMOUNT': 7617.0, 'PREMIUM_COLLECTED': 18799.38, 'PAID_AMOUNT': 6209.87, 'CITY': 'KOLKATA', 'REJECTION_REMARKS': None}, {'CLAIM_ID': 'CLM100051', 'CLAIM_DATE': '2025-04-09', 'CUSTOMER_ID': 'CUST17594', 'CLAIM_AMOUNT': 52569.0, 'PREMIUM_COLLECTED': 17115.96, 'PAID_AMOUNT': 0.0, 'CITY': 'PUNE', 'REJECTION_REMARKS': None}, {'CLAIM_ID': 'CLM100024', 'CLAIM_DATE': '2025-04-09', 'CUSTOMER_ID': 'CUST47907', 'CLAIM_AMOUNT': 37076.0, 'PREMIUM_COLLECTED': 11890.44, 'PAID_AMOUNT': 19712.25, 'CITY': 'GUWAHATI', 'REJECTION_REMARKS': None}, {'CLAIM_ID': 'CLM100074', 'CLAIM_DATE': '2025-04-09', 'CUSTOMER_ID': 'CUST62428', 'CLAIM_AMOUNT': 9462.0, 'PREMIUM_COLLECTED': 13550.16, 'PAID_AMOUNT': 5488.19, 'CITY': None, 'REJECTION_REMARKS': None}, {'CLAIM_ID': 'CLM100038', 'CLAIM_DATE': '2025-04-10', 'CUSTOMER_ID': 'CUST55227', 'CLAIM_AMOUNT': 15564.0, 'PREMIUM_COLLECTED': 19124.37, 'PAID_AMOUNT': 0.0, 'CITY': 'PUNE', 'REJECTION_REMARKS': 'Rejection reason: Policy_expired in verification.'}, {'CLAIM_ID': 'CLM100071', 'CLAIM_DATE': '2025-04-10', 'CUSTOMER_ID': 'CUST47050', 'CLAIM_AMOUNT': 10713.0, 'PREMIUM_COLLECTED': 18997.84, 'PAID_AMOUNT': 7686.44, 'CITY': None, 'REJECTION_REMARKS': None}, {'CLAIM_ID': 'CLM100059', 'CLAIM_DATE': '2025-04-10', 'CUSTOMER_ID': 'CUST37384', 'CLAIM_AMOUNT': 72187.0, 'PREMIUM_COLLECTED': 6783.05, 'PAID_AMOUNT': 0.0, 'CITY': 'RANCHI', 'REJECTION_REMARKS': 'Policy rejected: Policy_expired noted.'}, {'CLAIM_ID': 'CLM100064', 'CLAIM_DATE': '2025-04-10', 'CUSTOMER_ID': 'CUST40607', 'CLAIM_AMOUNT': 92874.0, 'PREMIUM_COLLECTED': 1266.93, 'PAID_AMOUNT': 73616.75, 'CITY': 'PUNE', 'REJECTION_REMARKS': None}, {'CLAIM_ID': 'CLM100077', 'CLAIM_DATE': '2025-04-11', 'CUSTOMER_ID': 'CUST70532', 'CLAIM_AMOUNT': 46302.0, 'PREMIUM_COLLECTED': 17194.67, 'PAID_AMOUNT': 0.0, 'CITY': 'KOLKATA', 'REJECTION_REMARKS': None}, {'CLAIM_ID': 'CLM100041', 'CLAIM_DATE': '2025-04-11', 'CUSTOMER_ID': 'CUST79328', 'CLAIM_AMOUNT': 20085.0, 'PREMIUM_COLLECTED': 19732.25, 'PAID_AMOUNT': 17160.03, 'CITY': 'PUNE', 'REJECTION_REMARKS': None}, {'CLAIM_ID': 'CLM100015', 'CLAIM_DATE': '2025-04-11', 'CUSTOMER_ID': 'CUST25245', 'CLAIM_AMOUNT': 82101.0, 'PREMIUM_COLLECTED': 15528.72, 'PAID_AMOUNT': 44593.86, 'CITY': 'GUWAHATI', 'REJECTION_REMARKS': None}, {'CLAIM_ID': 'CLM100046', 'CLAIM_DATE': '2025-04-11', 'CUSTOMER_ID': 'CUST67393', 'CLAIM_AMOUNT': 93851.0, 'PREMIUM_COLLECTED': 17094.9, 'PAID_AMOUNT': 75977.26, 'CITY': 'PUNE', 'REJECTION_REMARKS': None}, {'CLAIM_ID': 'CLM100048', 'CLAIM_DATE': '2025-04-11', 'CUSTOMER_ID': 'CUST74020', 'CLAIM_AMOUNT': 80637.0, 'PREMIUM_COLLECTED': 18734.5, 'PAID_AMOUNT': 51017.11, 'CITY': 'GUWAHATI', 'REJECTION_REMARKS': None}, {'CLAIM_ID': 'CLM100035', 'CLAIM_DATE': '2025-04-12', 'CUSTOMER_ID': 'CUST20759', 'CLAIM_AMOUNT': 95554.0, 'PREMIUM_COLLECTED': 8777.64, 'PAID_AMOUNT': 73607.73, 'CITY': 'KOLKATA', 'REJECTION_REMARKS': None}, {'CLAIM_ID': 'CLM100005', 'CLAIM_DATE': '2025-04-12', 'CUSTOMER_ID': 'CUST83128', 'CLAIM_AMOUNT': 41913.0, 'PREMIUM_COLLECTED': 2716.16, 'PAID_AMOUNT': 33556.69, 'CITY': 'KOLKATA', 'REJECTION_REMARKS': None}, {'CLAIM_ID': 'CLM100072', 'CLAIM_DATE': '2025-04-12', 'CUSTOMER_ID': 'CUST23811', 'CLAIM_AMOUNT': 62307.0, 'PREMIUM_COLLECTED': 4772.41, 'PAID_AMOUNT': 35170.41, 'CITY': 'GUWAHATI', 'REJECTION_REMARKS': None}, {'CLAIM_ID': 'CLM100098', 'CLAIM_DATE': '2025-04-12', 'CUSTOMER_ID': 'CUST49836', 'CLAIM_AMOUNT': 54580.0, 'PREMIUM_COLLECTED': 3119.67, 'PAID_AMOUNT': 33131.76, 'CITY': 'GUWAHATI', 'REJECTION_REMARKS': None}, {'CLAIM_ID': 'CLM100088', 'CLAIM_DATE': '2025-04-12', 'CUSTOMER_ID': 'CUST94145', 'CLAIM_AMOUNT': 11703.0, 'PREMIUM_COLLECTED': 16757.23, 'PAID_AMOUNT': 10400.91, 'CITY': None, 'REJECTION_REMARKS': None}, {'CLAIM_ID': 'CLM100083', 'CLAIM_DATE': '2025-04-13', 'CUSTOMER_ID': 'CUST46233', 'CLAIM_AMOUNT': 5966.0, 'PREMIUM_COLLECTED': 8287.39, 'PAID_AMOUNT': 3293.54, 'CITY': 'PUNE', 'REJECTION_REMARKS': None}, {'CLAIM_ID': 'CLM100011', 'CLAIM_DATE': '2025-04-13', 'CUSTOMER_ID': 'CUST92038', 'CLAIM_AMOUNT': 45399.0, 'PREMIUM_COLLECTED': 14217.07, 'PAID_AMOUNT': 0.0, 'CITY': 'PUNE', 'REJECTION_REMARKS': None}, {'CLAIM_ID': 'CLM100079', 'CLAIM_DATE': '2025-04-13', 'CUSTOMER_ID': 'CUST54690', 'CLAIM_AMOUNT': 11641.0, 'PREMIUM_COLLECTED': 3647.67, 'PAID_AMOUNT': 6107.55, 'CITY': 'RANCHI', 'REJECTION_REMARKS': None}, {'CLAIM_ID': 'CLM100032', 'CLAIM_DATE': '2025-04-13', 'CUSTOMER_ID': 'CUST87247', 'CLAIM_AMOUNT': 51984.0, 'PREMIUM_COLLECTED': 11243.23, 'PAID_AMOUNT': 32544.37, 'CITY': 'RANCHI', 'REJECTION_REMARKS': None}, {'CLAIM_ID': 'CLM100047', 'CLAIM_DATE': '2025-04-13', 'CUSTOMER_ID': 'CUST74101', 'CLAIM_AMOUNT': 54838.0, 'PREMIUM_COLLECTED': 13819.25, 'PAID_AMOUNT': 44196.44, 'CITY': 'KOLKATA', 'REJECTION_REMARKS': None}, {'CLAIM_ID': 'CLM100042', 'CLAIM_DATE': '2025-04-13', 'CUSTOMER_ID': 'CUST78196', 'CLAIM_AMOUNT': 94552.0, 'PREMIUM_COLLECTED': 1210.25, 'PAID_AMOUNT': 70590.7, 'CITY': 'PUNE', 'REJECTION_REMARKS': None}, {'CLAIM_ID': 'CLM100036', 'CLAIM_DATE': '2025-04-14', 'CUSTOMER_ID': 'CUST47615', 'CLAIM_AMOUNT': 56276.31, 'PREMIUM_COLLECTED': 6587.82, 'PAID_AMOUNT': 56276.31, 'CITY': 'GUWAHATI', 'REJECTION_REMARKS': None}, {'CLAIM_ID': 'CLM100096', 'CLAIM_DATE': '2025-04-14', 'CUSTOMER_ID': 'CUST24471', 'CLAIM_AMOUNT': 15373.0, 'PREMIUM_COLLECTED': 10412.56, 'PAID_AMOUNT': 0.0, 'CITY': 'PUNE', 'REJECTION_REMARKS': 'Fake_document reason led to rejection.'}, {'CLAIM_ID': 'CLM100023', 'CLAIM_DATE': '2025-04-14', 'CUSTOMER_ID': 'CUST70928', 'CLAIM_AMOUNT': 48394.0, 'PREMIUM_COLLECTED': 8943.6, 'PAID_AMOUNT': 34060.76, 'CITY': 'PUNE', 'REJECTION_REMARKS': None}, {'CLAIM_ID': 'CLM100040', 'CLAIM_DATE': '2025-04-14', 'CUSTOMER_ID': 'CUST91411', 'CLAIM_AMOUNT': 71767.0, 'PREMIUM_COLLECTED': 4498.04, 'PAID_AMOUNT': 49712.78, 'CITY': 'KOLKATA', 'REJECTION_REMARKS': None}, {'CLAIM_ID': 'CLM100057', 'CLAIM_DATE': '2025-04-14', 'CUSTOMER_ID': 'CUST45154', 'CLAIM_AMOUNT': 53345.0, 'PREMIUM_COLLECTED': 9841.35, 'PAID_AMOUNT': 35581.93, 'CITY': 'PUNE', 'REJECTION_REMARKS': None}, {'CLAIM_ID': 'CLM100018', 'CLAIM_DATE': '2025-04-14', 'CUSTOMER_ID': 'CUST67706', 'CLAIM_AMOUNT': 39474.0, 'PREMIUM_COLLECTED': 15963.13, 'PAID_AMOUNT': 29157.41, 'CITY': 'GUWAHATI', 'REJECTION_REMARKS': None}, {'CLAIM_ID': 'CLM100025', 'CLAIM_DATE': '2025-04-15', 'CUSTOMER_ID': 'CUST22223', 'CLAIM_AMOUNT': 40273.0, 'PREMIUM_COLLECTED': 13409.84, 'PAID_AMOUNT': 40178.95, 'CITY': 'PUNE', 'REJECTION_REMARKS': None}, {'CLAIM_ID': 'CLM100037', 'CLAIM_DATE': '2025-04-15', 'CUSTOMER_ID': 'CUST48926', 'CLAIM_AMOUNT': 67380.0, 'PREMIUM_COLLECTED': 14990.53, 'PAID_AMOUNT': 51840.71, 'CITY': 'PUNE', 'REJECTION_REMARKS': None}, {'CLAIM_ID': 'CLM100084', 'CLAIM_DATE': '2025-04-15', 'CUSTOMER_ID': 'CUST72294', 'CLAIM_AMOUNT': 56827.0, 'PREMIUM_COLLECTED': 9789.26, 'PAID_AMOUNT': 44849.17, 'CITY': 'RANCHI', 'REJECTION_REMARKS': None}, {'CLAIM_ID': 'CLM100022', 'CLAIM_DATE': '2025-04-17', 'CUSTOMER_ID': 'CUST31412', 'CLAIM_AMOUNT': 66651.78, 'PREMIUM_COLLECTED': 5546.68, 'PAID_AMOUNT': 66651.78, 'CITY': 'RANCHI', 'REJECTION_REMARKS': None}, {'CLAIM_ID': 'CLM100028', 'CLAIM_DATE': '2025-04-17', 'CUSTOMER_ID': 'CUST86005', 'CLAIM_AMOUNT': 23208.0, 'PREMIUM_COLLECTED': 16323.3, 'PAID_AMOUNT': 16631.13, 'CITY': 'RANCHI', 'REJECTION_REMARKS': None}, {'CLAIM_ID': 'CLM100090', 'CLAIM_DATE': '2025-04-17', 'CUSTOMER_ID': 'CUST61146', 'CLAIM_AMOUNT': 85451.0, 'PREMIUM_COLLECTED': 14714.23, 'PAID_AMOUNT': 0.0, 'CITY': 'GUWAHATI', 'REJECTION_REMARKS': 'Claim denied due to Policy_expired.'}, {'CLAIM_ID': 'CLM100019', 'CLAIM_DATE': '2025-04-17', 'CUSTOMER_ID': 'CUST95453', 'CLAIM_AMOUNT': 21642.0, 'PREMIUM_COLLECTED': 18385.11, 'PAID_AMOUNT': 20046.96, 'CITY': 'RANCHI', 'REJECTION_REMARKS': None}, {'CLAIM_ID': 'CLM100073', 'CLAIM_DATE': '2025-04-17', 'CUSTOMER_ID': 'CUST34675', 'CLAIM_AMOUNT': 67602.0, 'PREMIUM_COLLECTED': 2656.62, 'PAID_AMOUNT': 37244.58, 'CITY': 'KOLKATA', 'REJECTION_REMARKS': None}, {'CLAIM_ID': 'CLM100034', 'CLAIM_DATE': '2025-04-18', 'CUSTOMER_ID': 'CUST60297', 'CLAIM_AMOUNT': 58385.0, 'PREMIUM_COLLECTED': 12168.04, 'PAID_AMOUNT': 43064.57, 'CITY': 'KOLKATA', 'REJECTION_REMARKS': None}, {'CLAIM_ID': 'CLM100008', 'CLAIM_DATE': '2025-04-18', 'CUSTOMER_ID': 'CUST72188', 'CLAIM_AMOUNT': 37753.0, 'PREMIUM_COLLECTED': 15042.85, 'PAID_AMOUNT': 29044.48, 'CITY': 'GUWAHATI', 'REJECTION_REMARKS': None}, {'CLAIM_ID': 'CLM100067', 'CLAIM_DATE': '2025-04-18', 'CUSTOMER_ID': 'CUST31021', 'CLAIM_AMOUNT': 38451.0, 'PREMIUM_COLLECTED': 11354.22, 'PAID_AMOUNT': 33580.6, 'CITY': 'PUNE', 'REJECTION_REMARKS': None}, {'CLAIM_ID': 'CLM100004', 'CLAIM_DATE': '2025-04-19', 'CUSTOMER_ID': 'CUST71295', 'CLAIM_AMOUNT': 43151.0, 'PREMIUM_COLLECTED': 3932.34, 'PAID_AMOUNT': 32412.52, 'CITY': 'GUWAHATI', 'REJECTION_REMARKS': None}, {'CLAIM_ID': 'CLM100076', 'CLAIM_DATE': '2025-04-20', 'CUSTOMER_ID': 'CUST27073', 'CLAIM_AMOUNT': 55203.0, 'PREMIUM_COLLECTED': 17307.3, 'PAID_AMOUNT': 29700.27, 'CITY': 'PUNE', 'REJECTION_REMARKS': None}, {'CLAIM_ID': 'CLM100052', 'CLAIM_DATE': '2025-04-20', 'CUSTOMER_ID': 'CUST35707', 'CLAIM_AMOUNT': 46039.0, 'PREMIUM_COLLECTED': 12354.28, 'PAID_AMOUNT': 34708.77, 'CITY': 'KOLKATA', 'REJECTION_REMARKS': None}, {'CLAIM_ID': 'CLM100092', 'CLAIM_DATE': '2025-04-21', 'CUSTOMER_ID': 'CUST65606', 'CLAIM_AMOUNT': 28825.0, 'PREMIUM_COLLECTED': 15191.11, 'PAID_AMOUNT': 14906.21, 'CITY': 'GUWAHATI', 'REJECTION_REMARKS': None}, {'CLAIM_ID': 'CLM100069', 'CLAIM_DATE': '2025-04-21', 'CUSTOMER_ID': 'CUST89363', 'CLAIM_AMOUNT': 4794.0, 'PREMIUM_COLLECTED': 11519.13, 'PAID_AMOUNT': 3420.0, 'CITY': 'PUNE', 'REJECTION_REMARKS': None}, {'CLAIM_ID': 'CLM100082', 'CLAIM_DATE': '2025-04-21', 'CUSTOMER_ID': 'CUST26812', 'CLAIM_AMOUNT': 45035.0, 'PREMIUM_COLLECTED': 2337.22, 'PAID_AMOUNT': 37473.96, 'CITY': 'GUWAHATI', 'REJECTION_REMARKS': None}, {'CLAIM_ID': 'CLM100058', 'CLAIM_DATE': '2025-04-21', 'CUSTOMER_ID': 'CUST65550', 'CLAIM_AMOUNT': 39381.02, 'PREMIUM_COLLECTED': 17190.78, 'PAID_AMOUNT': 39381.02, 'CITY': 'PUNE', 'REJECTION_REMARKS': None}, {'CLAIM_ID': 'CLM100087', 'CLAIM_DATE': '2025-04-21', 'CUSTOMER_ID': 'CUST75350', 'CLAIM_AMOUNT': 34255.0, 'PREMIUM_COLLECTED': 12149.78, 'PAID_AMOUNT': 24161.34, 'CITY': 'RANCHI', 'REJECTION_REMARKS': None}, {'CLAIM_ID': 'CLM100031', 'CLAIM_DATE': '2025-04-22', 'CUSTOMER_ID': 'CUST72777', 'CLAIM_AMOUNT': 6543.0, 'PREMIUM_COLLECTED': 0.0, 'PAID_AMOUNT': 6149.32, 'CITY': 'PUNE', 'REJECTION_REMARKS': None}, {'CLAIM_ID': 'CLM100086', 'CLAIM_DATE': '2025-04-22', 'CUSTOMER_ID': 'CUST93808', 'CLAIM_AMOUNT': 97179.0, 'PREMIUM_COLLECTED': 5383.46, 'PAID_AMOUNT': 0.0, 'CITY': None, 'REJECTION_REMARKS': 'Case flagged as Policy_expired during audit.'}, {'CLAIM_ID': 'CLM100020', 'CLAIM_DATE': '2025-04-22', 'CUSTOMER_ID': 'CUST15146', 'CLAIM_AMOUNT': 25955.0, 'PREMIUM_COLLECTED': 14383.19, 'PAID_AMOUNT': 19582.9, 'CITY': 'GUWAHATI', 'REJECTION_REMARKS': None}, {'CLAIM_ID': 'CLM100045', 'CLAIM_DATE': '2025-04-22', 'CUSTOMER_ID': 'CUST73630', 'CLAIM_AMOUNT': 76086.0, 'PREMIUM_COLLECTED': 0.0, 'PAID_AMOUNT': 0.0, 'CITY': 'GUWAHATI', 'REJECTION_REMARKS': 'System flagged this claim: Policy_expired.'}, {'CLAIM_ID': 'CLM100000', 'CLAIM_DATE': '2025-04-23', 'CUSTOMER_ID': 'CUST79897', 'CLAIM_AMOUNT': 23164.0, 'PREMIUM_COLLECTED': 10851.42, 'PAID_AMOUNT': 0.0, 'CITY': None, 'REJECTION_REMARKS': 'Policy rejected: Fake_document noted.'}, {'CLAIM_ID': 'CLM100049', 'CLAIM_DATE': '2025-04-23', 'CUSTOMER_ID': 'CUST46039', 'CLAIM_AMOUNT': 66543.0, 'PREMIUM_COLLECTED': 19142.38, 'PAID_AMOUNT': 34892.81, 'CITY': 'GUWAHATI', 'REJECTION_REMARKS': None}, {'CLAIM_ID': 'CLM100093', 'CLAIM_DATE': '2025-04-24', 'CUSTOMER_ID': 'CUST30745', 'CLAIM_AMOUNT': 38181.0, 'PREMIUM_COLLECTED': 12022.08, 'PAID_AMOUNT': 0.0, 'CITY': 'RANCHI', 'REJECTION_REMARKS': None}, {'CLAIM_ID': 'CLM100075', 'CLAIM_DATE': '2025-04-24', 'CUSTOMER_ID': 'CUST34377', 'CLAIM_AMOUNT': 43227.0, 'PREMIUM_COLLECTED': 8453.1, 'PAID_AMOUNT': 32720.2, 'CITY': None, 'REJECTION_REMARKS': None}, {'CLAIM_ID': 'CLM100065', 'CLAIM_DATE': '2025-04-24', 'CUSTOMER_ID': 'CUST82241', 'CLAIM_AMOUNT': 31317.0, 'PREMIUM_COLLECTED': 6307.06, 'PAID_AMOUNT': 30244.87, 'CITY': 'PUNE', 'REJECTION_REMARKS': None}, {'CLAIM_ID': 'CLM100017', 'CLAIM_DATE': '2025-04-24', 'CUSTOMER_ID': 'CUST59251', 'CLAIM_AMOUNT': 58151.0, 'PREMIUM_COLLECTED': 10626.35, 'PAID_AMOUNT': 0.0, 'CITY': 'RANCHI', 'REJECTION_REMARKS': 'Rejection reason: Policy_expired in verification.'}, {'CLAIM_ID': 'CLM100078', 'CLAIM_DATE': '2025-04-25', 'CUSTOMER_ID': 'CUST80454', 'CLAIM_AMOUNT': 24699.0, 'PREMIUM_COLLECTED': 5851.0, 'PAID_AMOUNT': 17885.24, 'CITY': 'RANCHI', 'REJECTION_REMARKS': None}, {'CLAIM_ID': 'CLM100060', 'CLAIM_DATE': '2025-04-25', 'CUSTOMER_ID': 'CUST55798', 'CLAIM_AMOUNT': 59929.0, 'PREMIUM_COLLECTED': 13563.37, 'PAID_AMOUNT': 32968.92, 'CITY': 'PUNE', 'REJECTION_REMARKS': None}, {'CLAIM_ID': 'CLM100050', 'CLAIM_DATE': '2025-04-26', 'CUSTOMER_ID': 'CUST61909', 'CLAIM_AMOUNT': 64932.0, 'PREMIUM_COLLECTED': 7251.53, 'PAID_AMOUNT': 43521.55, 'CITY': 'PUNE', 'REJECTION_REMARKS': None}, {'CLAIM_ID': 'CLM100016', 'CLAIM_DATE': '2025-04-26', 'CUSTOMER_ID': 'CUST36362', 'CLAIM_AMOUNT': 63099.38, 'PREMIUM_COLLECTED': 14955.09, 'PAID_AMOUNT': 63099.38, 'CITY': 'RANCHI', 'REJECTION_REMARKS': None}, {'CLAIM_ID': 'CLM100097', 'CLAIM_DATE': '2025-04-26', 'CUSTOMER_ID': 'CUST87865', 'CLAIM_AMOUNT': 39241.0, 'PREMIUM_COLLECTED': 0.0, 'PAID_AMOUNT': 21373.44, 'CITY': 'PUNE', 'REJECTION_REMARKS': None}, {'CLAIM_ID': 'CLM100026', 'CLAIM_DATE': '2025-04-27', 'CUSTOMER_ID': 'CUST93929', 'CLAIM_AMOUNT': 22922.66, 'PREMIUM_COLLECTED': 15058.27, 'PAID_AMOUNT': 22922.66, 'CITY': 'KOLKATA', 'REJECTION_REMARKS': None}, {'CLAIM_ID': 'CLM100091', 'CLAIM_DATE': '2025-04-27', 'CUSTOMER_ID': 'CUST83317', 'CLAIM_AMOUNT': 51803.0, 'PREMIUM_COLLECTED': 2229.61, 'PAID_AMOUNT': 0.0, 'CITY': 'RANCHI', 'REJECTION_REMARKS': None}, {'CLAIM_ID': 'CLM100095', 'CLAIM_DATE': '2025-04-27', 'CUSTOMER_ID': 'CUST65460', 'CLAIM_AMOUNT': 31381.0, 'PREMIUM_COLLECTED': 11489.06, 'PAID_AMOUNT': 24469.29, 'CITY': 'PUNE', 'REJECTION_REMARKS': None}, {'CLAIM_ID': 'CLM100055', 'CLAIM_DATE': '2025-04-28', 'CUSTOMER_ID': 'CUST90265', 'CLAIM_AMOUNT': 85995.0, 'PREMIUM_COLLECTED': 12605.77, 'PAID_AMOUNT': 0.0, 'CITY': 'PUNE', 'REJECTION_REMARKS': 'Rejection reason: Not_Covered in verification.'}, {'CLAIM_ID': 'CLM100056', 'CLAIM_DATE': '2025-04-29', 'CUSTOMER_ID': 'CUST80279', 'CLAIM_AMOUNT': 21842.0, 'PREMIUM_COLLECTED': 10931.83, 'PAID_AMOUNT': 18271.79, 'CITY': 'GUWAHATI', 'REJECTION_REMARKS': None}, {'CLAIM_ID': 'CLM100043', 'CLAIM_DATE': '2025-04-29', 'CUSTOMER_ID': 'CUST13980', 'CLAIM_AMOUNT': 4418.0, 'PREMIUM_COLLECTED': 9482.97, 'PAID_AMOUNT': 0.0, 'CITY': 'GUWAHATI', 'REJECTION_REMARKS': 'Submission error - Not_Covered found.'}, {'CLAIM_ID': 'CLM100030', 'CLAIM_DATE': '2025-04-29', 'CUSTOMER_ID': 'CUST59921', 'CLAIM_AMOUNT': 73844.0, 'PREMIUM_COLLECTED': 5869.04, 'PAID_AMOUNT': 54317.84, 'CITY': 'KOLKATA', 'REJECTION_REMARKS': None}, {'CLAIM_ID': 'CLM100007', 'CLAIM_DATE': '2025-04-29', 'CUSTOMER_ID': 'CUST83981', 'CLAIM_AMOUNT': 16816.0, 'PREMIUM_COLLECTED': 6081.99, 'PAID_AMOUNT': 12221.81, 'CITY': 'PUNE', 'REJECTION_REMARKS': None}, {'CLAIM_ID': 'CLM100002', 'CLAIM_DATE': '2025-04-29', 'CUSTOMER_ID': 'CUST87852', 'CLAIM_AMOUNT': 57826.0, 'PREMIUM_COLLECTED': 9525.69, 'PAID_AMOUNT': 34702.14, 'CITY': 'PUNE', 'REJECTION_REMARKS': None}]\n"
          ]
        }
      ]
    },
    {
      "cell_type": "markdown",
      "source": [
        "# For tabular form\n",
        "\n"
      ],
      "metadata": {
        "id": "ooB_r7JYRgDa"
      }
    },
    {
      "cell_type": "code",
      "source": [
        "def print_full_table(data):\n",
        "    if not data:\n",
        "        print(\"No data to display.\")\n",
        "        return\n",
        "\n",
        "    headers = list(data[0].keys())\n",
        "    col_widths = [len(header) for header in headers]\n",
        "\n",
        "\n",
        "    for row in data:\n",
        "        for i, key in enumerate(headers):\n",
        "            val = str(row.get(key, \"\"))\n",
        "            col_widths[i] = max(col_widths[i], len(val))\n",
        "\n",
        "\n",
        "    header_row = \" | \".join([headers[i].ljust(col_widths[i]) for i in range(len(headers))])\n",
        "    print(header_row)\n",
        "    print(\"-\" * len(header_row))\n",
        "\n",
        "\n",
        "    for row in data:\n",
        "        row_str = \" | \".join([\n",
        "            str(row.get(key, \"\")).ljust(col_widths[i]) for i, key in enumerate(headers)\n",
        "        ])\n",
        "        print(row_str)\n",
        "\n",
        "\n",
        "print_full_table(cleaned_data)\n"
      ],
      "metadata": {
        "colab": {
          "base_uri": "https://localhost:8080/"
        },
        "id": "uJp5diLqRix1",
        "outputId": "e842291e-5f2f-4d7e-e50b-c7a120f7e5b8"
      },
      "execution_count": 4,
      "outputs": [
        {
          "output_type": "stream",
          "name": "stdout",
          "text": [
            "CLAIM_ID  | CLAIM_DATE | CUSTOMER_ID | CLAIM_AMOUNT | PREMIUM_COLLECTED | PAID_AMOUNT | CITY     | REJECTION_REMARKS                                \n",
            "----------------------------------------------------------------------------------------------------------------------------------------------------\n",
            "CLM100021 | 2025-04-01 | CUST14285   | 10419.0      | 2198.59           | 6964.46     | PUNE     | None                                             \n",
            "CLM100013 | 2025-04-01 | CUST26471   | 42468.0      | 8982.2            | 30119.67    | GUWAHATI | None                                             \n",
            "CLM100099 | 2025-04-02 | CUST29309   | 55897.0      | 1861.78           | 55657.15    | GUWAHATI | None                                             \n",
            "CLM100044 | 2025-04-02 | CUST30275   | 71785.0      | 13154.99          | 53629.3     | PUNE     | None                                             \n",
            "CLM100014 | 2025-04-02 | CUST38169   | 18565.0      | 2606.4            | 12849.24    | RANCHI   | None                                             \n",
            "CLM100062 | 2025-04-02 | CUST41634   | 84513.0      | 11166.17          | 84503.26    | KOLKATA  | None                                             \n",
            "CLM100010 | 2025-04-03 | CUST52415   | 22774.0      | 15202.22          | 12105.48    | KOLKATA  | None                                             \n",
            "CLM100012 | 2025-04-03 | CUST19944   | 22162.0      | 5361.39           | 19091.03    | RANCHI   | None                                             \n",
            "CLM100029 | 2025-04-04 | CUST62992   | 3196.0       | 11752.93          | 2084.27     | PUNE     | None                                             \n",
            "CLM100053 | 2025-04-04 | CUST11673   | 27306.0      | 8940.45           | 24832.11    | PUNE     | None                                             \n",
            "CLM100054 | 2025-04-04 | CUST37231   | 26367.0      | 1909.22           | 22294.92    | PUNE     | None                                             \n",
            "CLM100006 | 2025-04-05 | CUST40797   | 83571.0      | 3461.14           | 68199.38    | PUNE     | None                                             \n",
            "CLM100001 | 2025-04-05 | CUST71468   | 12164.0      | 16583.82          | 6495.73     | GUWAHATI | None                                             \n",
            "CLM100003 | 2025-04-05 | CUST71877   | 99944.0      | 3081.83           | 79950.47    | PUNE     | None                                             \n",
            "CLM100061 | 2025-04-05 | CUST74127   | 72838.0      | 5126.2            | 65347.46    | RANCHI   | None                                             \n",
            "CLM100085 | 2025-04-06 | CUST31609   | 89362.0      | 0.0               | 71995.54    | KOLKATA  | None                                             \n",
            "CLM100080 | 2025-04-06 | CUST38358   | 73417.0      | 8409.15           | 59605.08    | GUWAHATI | None                                             \n",
            "CLM100089 | 2025-04-06 | CUST80026   | 56281.0      | 0.0               | 47278.36    | KOLKATA  | None                                             \n",
            "CLM100027 | 2025-04-06 | CUST14047   | 53417.11     | 13263.85          | 53417.11    | PUNE     | None                                             \n",
            "CLM100063 | 2025-04-06 | CUST79802   | 53521.0      | 6786.32           | 34028.19    | GUWAHATI | None                                             \n",
            "CLM100070 | 2025-04-07 | CUST86689   | 51976.0      | 16601.46          | 26393.35    | PUNE     | None                                             \n",
            "CLM100081 | 2025-04-07 | CUST52716   | 12185.0      | 6212.4            | 11878.02    | RANCHI   | None                                             \n",
            "CLM100068 | 2025-04-07 | CUST86414   | 31302.0      | 3032.33           | 16219.79    | PUNE     | None                                             \n",
            "CLM100094 | 2025-04-07 | CUST54178   | 31102.0      | 0.0               | 20968.0     | KOLKATA  | None                                             \n",
            "CLM100066 | 2025-04-07 | CUST94430   | 62146.0      | 17861.9           | 59642.65    | GUWAHATI | None                                             \n",
            "CLM100033 | 2025-04-08 | CUST36174   | 57183.0      | 19074.86          | 51997.18    | GUWAHATI | None                                             \n",
            "CLM100039 | 2025-04-08 | CUST83721   | 25254.26     | 12015.1           | 25254.26    | PUNE     | None                                             \n",
            "CLM100009 | 2025-04-08 | CUST58755   | 7617.0       | 18799.38          | 6209.87     | KOLKATA  | None                                             \n",
            "CLM100051 | 2025-04-09 | CUST17594   | 52569.0      | 17115.96          | 0.0         | PUNE     | None                                             \n",
            "CLM100024 | 2025-04-09 | CUST47907   | 37076.0      | 11890.44          | 19712.25    | GUWAHATI | None                                             \n",
            "CLM100074 | 2025-04-09 | CUST62428   | 9462.0       | 13550.16          | 5488.19     | None     | None                                             \n",
            "CLM100038 | 2025-04-10 | CUST55227   | 15564.0      | 19124.37          | 0.0         | PUNE     | Rejection reason: Policy_expired in verification.\n",
            "CLM100071 | 2025-04-10 | CUST47050   | 10713.0      | 18997.84          | 7686.44     | None     | None                                             \n",
            "CLM100059 | 2025-04-10 | CUST37384   | 72187.0      | 6783.05           | 0.0         | RANCHI   | Policy rejected: Policy_expired noted.           \n",
            "CLM100064 | 2025-04-10 | CUST40607   | 92874.0      | 1266.93           | 73616.75    | PUNE     | None                                             \n",
            "CLM100077 | 2025-04-11 | CUST70532   | 46302.0      | 17194.67          | 0.0         | KOLKATA  | None                                             \n",
            "CLM100041 | 2025-04-11 | CUST79328   | 20085.0      | 19732.25          | 17160.03    | PUNE     | None                                             \n",
            "CLM100015 | 2025-04-11 | CUST25245   | 82101.0      | 15528.72          | 44593.86    | GUWAHATI | None                                             \n",
            "CLM100046 | 2025-04-11 | CUST67393   | 93851.0      | 17094.9           | 75977.26    | PUNE     | None                                             \n",
            "CLM100048 | 2025-04-11 | CUST74020   | 80637.0      | 18734.5           | 51017.11    | GUWAHATI | None                                             \n",
            "CLM100035 | 2025-04-12 | CUST20759   | 95554.0      | 8777.64           | 73607.73    | KOLKATA  | None                                             \n",
            "CLM100005 | 2025-04-12 | CUST83128   | 41913.0      | 2716.16           | 33556.69    | KOLKATA  | None                                             \n",
            "CLM100072 | 2025-04-12 | CUST23811   | 62307.0      | 4772.41           | 35170.41    | GUWAHATI | None                                             \n",
            "CLM100098 | 2025-04-12 | CUST49836   | 54580.0      | 3119.67           | 33131.76    | GUWAHATI | None                                             \n",
            "CLM100088 | 2025-04-12 | CUST94145   | 11703.0      | 16757.23          | 10400.91    | None     | None                                             \n",
            "CLM100083 | 2025-04-13 | CUST46233   | 5966.0       | 8287.39           | 3293.54     | PUNE     | None                                             \n",
            "CLM100011 | 2025-04-13 | CUST92038   | 45399.0      | 14217.07          | 0.0         | PUNE     | None                                             \n",
            "CLM100079 | 2025-04-13 | CUST54690   | 11641.0      | 3647.67           | 6107.55     | RANCHI   | None                                             \n",
            "CLM100032 | 2025-04-13 | CUST87247   | 51984.0      | 11243.23          | 32544.37    | RANCHI   | None                                             \n",
            "CLM100047 | 2025-04-13 | CUST74101   | 54838.0      | 13819.25          | 44196.44    | KOLKATA  | None                                             \n",
            "CLM100042 | 2025-04-13 | CUST78196   | 94552.0      | 1210.25           | 70590.7     | PUNE     | None                                             \n",
            "CLM100036 | 2025-04-14 | CUST47615   | 56276.31     | 6587.82           | 56276.31    | GUWAHATI | None                                             \n",
            "CLM100096 | 2025-04-14 | CUST24471   | 15373.0      | 10412.56          | 0.0         | PUNE     | Fake_document reason led to rejection.           \n",
            "CLM100023 | 2025-04-14 | CUST70928   | 48394.0      | 8943.6            | 34060.76    | PUNE     | None                                             \n",
            "CLM100040 | 2025-04-14 | CUST91411   | 71767.0      | 4498.04           | 49712.78    | KOLKATA  | None                                             \n",
            "CLM100057 | 2025-04-14 | CUST45154   | 53345.0      | 9841.35           | 35581.93    | PUNE     | None                                             \n",
            "CLM100018 | 2025-04-14 | CUST67706   | 39474.0      | 15963.13          | 29157.41    | GUWAHATI | None                                             \n",
            "CLM100025 | 2025-04-15 | CUST22223   | 40273.0      | 13409.84          | 40178.95    | PUNE     | None                                             \n",
            "CLM100037 | 2025-04-15 | CUST48926   | 67380.0      | 14990.53          | 51840.71    | PUNE     | None                                             \n",
            "CLM100084 | 2025-04-15 | CUST72294   | 56827.0      | 9789.26           | 44849.17    | RANCHI   | None                                             \n",
            "CLM100022 | 2025-04-17 | CUST31412   | 66651.78     | 5546.68           | 66651.78    | RANCHI   | None                                             \n",
            "CLM100028 | 2025-04-17 | CUST86005   | 23208.0      | 16323.3           | 16631.13    | RANCHI   | None                                             \n",
            "CLM100090 | 2025-04-17 | CUST61146   | 85451.0      | 14714.23          | 0.0         | GUWAHATI | Claim denied due to Policy_expired.              \n",
            "CLM100019 | 2025-04-17 | CUST95453   | 21642.0      | 18385.11          | 20046.96    | RANCHI   | None                                             \n",
            "CLM100073 | 2025-04-17 | CUST34675   | 67602.0      | 2656.62           | 37244.58    | KOLKATA  | None                                             \n",
            "CLM100034 | 2025-04-18 | CUST60297   | 58385.0      | 12168.04          | 43064.57    | KOLKATA  | None                                             \n",
            "CLM100008 | 2025-04-18 | CUST72188   | 37753.0      | 15042.85          | 29044.48    | GUWAHATI | None                                             \n",
            "CLM100067 | 2025-04-18 | CUST31021   | 38451.0      | 11354.22          | 33580.6     | PUNE     | None                                             \n",
            "CLM100004 | 2025-04-19 | CUST71295   | 43151.0      | 3932.34           | 32412.52    | GUWAHATI | None                                             \n",
            "CLM100076 | 2025-04-20 | CUST27073   | 55203.0      | 17307.3           | 29700.27    | PUNE     | None                                             \n",
            "CLM100052 | 2025-04-20 | CUST35707   | 46039.0      | 12354.28          | 34708.77    | KOLKATA  | None                                             \n",
            "CLM100092 | 2025-04-21 | CUST65606   | 28825.0      | 15191.11          | 14906.21    | GUWAHATI | None                                             \n",
            "CLM100069 | 2025-04-21 | CUST89363   | 4794.0       | 11519.13          | 3420.0      | PUNE     | None                                             \n",
            "CLM100082 | 2025-04-21 | CUST26812   | 45035.0      | 2337.22           | 37473.96    | GUWAHATI | None                                             \n",
            "CLM100058 | 2025-04-21 | CUST65550   | 39381.02     | 17190.78          | 39381.02    | PUNE     | None                                             \n",
            "CLM100087 | 2025-04-21 | CUST75350   | 34255.0      | 12149.78          | 24161.34    | RANCHI   | None                                             \n",
            "CLM100031 | 2025-04-22 | CUST72777   | 6543.0       | 0.0               | 6149.32     | PUNE     | None                                             \n",
            "CLM100086 | 2025-04-22 | CUST93808   | 97179.0      | 5383.46           | 0.0         | None     | Case flagged as Policy_expired during audit.     \n",
            "CLM100020 | 2025-04-22 | CUST15146   | 25955.0      | 14383.19          | 19582.9     | GUWAHATI | None                                             \n",
            "CLM100045 | 2025-04-22 | CUST73630   | 76086.0      | 0.0               | 0.0         | GUWAHATI | System flagged this claim: Policy_expired.       \n",
            "CLM100000 | 2025-04-23 | CUST79897   | 23164.0      | 10851.42          | 0.0         | None     | Policy rejected: Fake_document noted.            \n",
            "CLM100049 | 2025-04-23 | CUST46039   | 66543.0      | 19142.38          | 34892.81    | GUWAHATI | None                                             \n",
            "CLM100093 | 2025-04-24 | CUST30745   | 38181.0      | 12022.08          | 0.0         | RANCHI   | None                                             \n",
            "CLM100075 | 2025-04-24 | CUST34377   | 43227.0      | 8453.1            | 32720.2     | None     | None                                             \n",
            "CLM100065 | 2025-04-24 | CUST82241   | 31317.0      | 6307.06           | 30244.87    | PUNE     | None                                             \n",
            "CLM100017 | 2025-04-24 | CUST59251   | 58151.0      | 10626.35          | 0.0         | RANCHI   | Rejection reason: Policy_expired in verification.\n",
            "CLM100078 | 2025-04-25 | CUST80454   | 24699.0      | 5851.0            | 17885.24    | RANCHI   | None                                             \n",
            "CLM100060 | 2025-04-25 | CUST55798   | 59929.0      | 13563.37          | 32968.92    | PUNE     | None                                             \n",
            "CLM100050 | 2025-04-26 | CUST61909   | 64932.0      | 7251.53           | 43521.55    | PUNE     | None                                             \n",
            "CLM100016 | 2025-04-26 | CUST36362   | 63099.38     | 14955.09          | 63099.38    | RANCHI   | None                                             \n",
            "CLM100097 | 2025-04-26 | CUST87865   | 39241.0      | 0.0               | 21373.44    | PUNE     | None                                             \n",
            "CLM100026 | 2025-04-27 | CUST93929   | 22922.66     | 15058.27          | 22922.66    | KOLKATA  | None                                             \n",
            "CLM100091 | 2025-04-27 | CUST83317   | 51803.0      | 2229.61           | 0.0         | RANCHI   | None                                             \n",
            "CLM100095 | 2025-04-27 | CUST65460   | 31381.0      | 11489.06          | 24469.29    | PUNE     | None                                             \n",
            "CLM100055 | 2025-04-28 | CUST90265   | 85995.0      | 12605.77          | 0.0         | PUNE     | Rejection reason: Not_Covered in verification.   \n",
            "CLM100056 | 2025-04-29 | CUST80279   | 21842.0      | 10931.83          | 18271.79    | GUWAHATI | None                                             \n",
            "CLM100043 | 2025-04-29 | CUST13980   | 4418.0       | 9482.97           | 0.0         | GUWAHATI | Submission error - Not_Covered found.            \n",
            "CLM100030 | 2025-04-29 | CUST59921   | 73844.0      | 5869.04           | 54317.84    | KOLKATA  | None                                             \n",
            "CLM100007 | 2025-04-29 | CUST83981   | 16816.0      | 6081.99           | 12221.81    | PUNE     | None                                             \n",
            "CLM100002 | 2025-04-29 | CUST87852   | 57826.0      | 9525.69           | 34702.14    | PUNE     | None                                             \n"
          ]
        }
      ]
    },
    {
      "cell_type": "markdown",
      "source": [
        "# TASK - 2"
      ],
      "metadata": {
        "id": "JBmUN7NGYKWS"
      }
    },
    {
      "cell_type": "code",
      "source": [
        "def analyze_city_shutdown(data):\n",
        "\n",
        "    target_cities = [\"PUNE\", \"KOLKATA\", \"RANCHI\", \"GUWAHATI\"]\n",
        "    city_stats = {}\n",
        "\n",
        "    for entry in data:\n",
        "        city = entry.get(\"CITY\")\n",
        "        if not city or city.upper() not in target_cities:\n",
        "            continue\n",
        "\n",
        "        city = city.upper()\n",
        "\n",
        "        if city not in city_stats:\n",
        "            city_stats[city] = {\n",
        "                'claims': 0,\n",
        "                'total_premium': 0.0,\n",
        "                'total_claim_amount': 0.0,\n",
        "                'rejected': 0\n",
        "            }\n",
        "\n",
        "        city_stats[city]['claims'] += 1\n",
        "\n",
        "\n",
        "        premium = entry.get(\"PREMIUM_COLLECTED\")\n",
        "        if isinstance(premium, (int, float)):\n",
        "            city_stats[city]['total_premium'] += premium\n",
        "\n",
        "\n",
        "        claim_amt = entry.get(\"CLAIM_AMOUNT\")\n",
        "        if isinstance(claim_amt, (int, float)):\n",
        "            city_stats[city]['total_claim_amount'] += claim_amt\n",
        "\n",
        "\n",
        "        if entry.get(\"REJECTION_REMARKS\"):\n",
        "            city_stats[city]['rejected'] += 1\n",
        "\n",
        "\n",
        "    result = []\n",
        "    recommended_city = None\n",
        "    lowest_profit = float('inf')\n",
        "\n",
        "    for city, stats in city_stats.items():\n",
        "        profit = stats['total_premium'] - stats['total_claim_amount']\n",
        "        rejection_rate = stats['rejected'] / stats['claims'] if stats['claims'] else 0\n",
        "\n",
        "        result.append({\n",
        "            'City': city,\n",
        "            'Total Claims': stats['claims'],\n",
        "            'Total Premium Collected': round(stats['total_premium'], 2),\n",
        "            'Total Claim Amount': round(stats['total_claim_amount'], 2),\n",
        "            'Rejected Claims': stats['rejected'],\n",
        "            'Rejection Rate': round(rejection_rate, 2),\n",
        "            'Profit': round(profit, 2)\n",
        "        })\n",
        "\n",
        "        if profit < lowest_profit:\n",
        "            lowest_profit = profit\n",
        "            recommended_city = city\n",
        "\n",
        "    return result, recommended_city\n"
      ],
      "metadata": {
        "id": "SpWoVjeJYNqB"
      },
      "execution_count": 5,
      "outputs": []
    },
    {
      "cell_type": "code",
      "source": [
        "city_report, shutdown_city = analyze_city_shutdown(cleaned_data)\n",
        "\n",
        "\n",
        "def print_city_report(report):\n",
        "    headers = list(report[0].keys())\n",
        "    col_widths = [len(h) for h in headers]\n",
        "\n",
        "    for row in report:\n",
        "        for i, h in enumerate(headers):\n",
        "            col_widths[i] = max(col_widths[i], len(str(row[h])))\n",
        "\n",
        "    header_row = \" | \".join([h.ljust(col_widths[i]) for i, h in enumerate(headers)])\n",
        "    print(header_row)\n",
        "    print(\"-\" * len(header_row))\n",
        "\n",
        "    for row in report:\n",
        "        row_str = \" | \".join([str(row[h]).ljust(col_widths[i]) for i, h in enumerate(headers)])\n",
        "        print(row_str)\n",
        "\n",
        "\n",
        "print_city_report(city_report)\n",
        "print(f\"\\n Recommended city for shutdown: {shutdown_city}\")\n"
      ],
      "metadata": {
        "colab": {
          "base_uri": "https://localhost:8080/"
        },
        "id": "qDO7sp7vYcLC",
        "outputId": "0ac7205a-ef20-494d-bbb4-d170acae442b"
      },
      "execution_count": 6,
      "outputs": [
        {
          "output_type": "stream",
          "name": "stdout",
          "text": [
            "City     | Total Claims | Total Premium Collected | Total Claim Amount | Rejected Claims | Rejection Rate | Profit    \n",
            "----------------------------------------------------------------------------------------------------------------------\n",
            "PUNE     | 37           | 369254.79               | 1661971.39         | 3               | 0.08           | -1292716.6\n",
            "GUWAHATI | 24           | 261314.84               | 1204306.31         | 3               | 0.12           | -942991.47\n",
            "RANCHI   | 17           | 148858.6                | 700079.16          | 2               | 0.12           | -551220.56\n",
            "KOLKATA  | 16           | 140279.78               | 870815.66          | 0               | 0.0            | -730535.88\n",
            "\n",
            "📉 Recommended city for shutdown: PUNE\n"
          ]
        }
      ]
    },
    {
      "cell_type": "markdown",
      "source": [
        "# TASK - 3"
      ],
      "metadata": {
        "id": "mRxQU4OKbdTl"
      }
    },
    {
      "cell_type": "code",
      "source": [
        "REJECTION_REASONS_MAP = {\n",
        "    \"fake_document\": \"Fake_document\",\n",
        "    \"not_covered\": \"Not_Covered\",\n",
        "    \"policy_expired\": \"Policy_expired\"\n",
        "}\n",
        "\n",
        "\n",
        "def handle_error(error_message):\n",
        "    print(f\"Error: {error_message}\")\n",
        "    return \"Error\"\n",
        "\n",
        "\n",
        "def contains_rejection_reason(rejection_text, reason):\n",
        "    try:\n",
        "        if rejection_text and isinstance(rejection_text, str):\n",
        "            return reason.lower() in rejection_text.lower()\n",
        "    except Exception as e:\n",
        "        handle_error(f\"Error in contains_rejection_reason: {str(e)}\")\n",
        "    return False\n",
        "\n",
        "\n",
        "def map_rejection_reason(rejection_text):\n",
        "    try:\n",
        "        if rejection_text and isinstance(rejection_text, str):\n",
        "            for reason, rejection_class in REJECTION_REASONS_MAP.items():\n",
        "                if contains_rejection_reason(rejection_text, reason):\n",
        "                    return rejection_class\n",
        "            return \"Unknown\"\n",
        "        else:\n",
        "            return \"NoRemark\"\n",
        "    except Exception as e:\n",
        "        handle_error(f\"Error in map_rejection_reason: {str(e)}\")\n",
        "        return \"Error\"\n",
        "\n",
        "\n",
        "def complex_rejection_classifier(remark_text):\n",
        "    try:\n",
        "        if not isinstance(remark_text, str) or len(remark_text.strip()) == 0:\n",
        "            return \"Invalid Remark\"\n",
        "\n",
        "        if contains_rejection_reason(remark_text, \"fake_document\"):\n",
        "            return \"Fake_document\"\n",
        "        elif contains_rejection_reason(remark_text, \"not_covered\"):\n",
        "            return \"Not_Covered\"\n",
        "        elif contains_rejection_reason(remark_text, \"policy_expired\"):\n",
        "            return \"Policy_expired\"\n",
        "        else:\n",
        "            return map_rejection_reason(remark_text)\n",
        "    except Exception as e:\n",
        "        handle_error(f\"Error in complex_rejection_classifier: {str(e)}\")\n",
        "        return \"Error\"\n"
      ],
      "metadata": {
        "id": "imSmtLY5bhuj"
      },
      "execution_count": 7,
      "outputs": []
    },
    {
      "cell_type": "code",
      "source": [
        "def classify_rejections(data):\n",
        "    for entry in data:\n",
        "        remark = entry.get(\"REJECTION_REMARKS\")\n",
        "        entry[\"REJECTION_CLASS\"] = (\n",
        "            complex_rejection_classifier(remark) if remark else \"No Remark\"\n",
        "        )\n",
        "    return data\n",
        "\n",
        "\n",
        "classified_data = classify_rejections(cleaned_data)\n"
      ],
      "metadata": {
        "id": "rsb-ldGHbmz7"
      },
      "execution_count": 8,
      "outputs": []
    },
    {
      "cell_type": "code",
      "source": [
        "def print_classification_sample(data):\n",
        "    print(\"CLAIM_ID | REJECTION_REMARKS                                | REJECTION_CLASS\")\n",
        "    print(\"--------------------------------------------------------------------------\")\n",
        "    for row in data[: :]:\n",
        "        print(f\"{str(row.get('CLAIM_ID')).ljust(8)} | \"\n",
        "              f\"{str(row.get('REJECTION_REMARKS')).ljust(45)} | \"\n",
        "              f\"{row.get('REJECTION_CLASS')}\")\n",
        "\n",
        "\n",
        "print_classification_sample(classified_data)\n"
      ],
      "metadata": {
        "colab": {
          "base_uri": "https://localhost:8080/"
        },
        "id": "R3PIUcH4btip",
        "outputId": "e70906cd-6a92-4fa4-c8be-0f5313dfa0fc"
      },
      "execution_count": 9,
      "outputs": [
        {
          "output_type": "stream",
          "name": "stdout",
          "text": [
            "CLAIM_ID | REJECTION_REMARKS                                | REJECTION_CLASS\n",
            "--------------------------------------------------------------------------\n",
            "CLM100021 | None                                          | No Remark\n",
            "CLM100013 | None                                          | No Remark\n",
            "CLM100099 | None                                          | No Remark\n",
            "CLM100044 | None                                          | No Remark\n",
            "CLM100014 | None                                          | No Remark\n",
            "CLM100062 | None                                          | No Remark\n",
            "CLM100010 | None                                          | No Remark\n",
            "CLM100012 | None                                          | No Remark\n",
            "CLM100029 | None                                          | No Remark\n",
            "CLM100053 | None                                          | No Remark\n",
            "CLM100054 | None                                          | No Remark\n",
            "CLM100006 | None                                          | No Remark\n",
            "CLM100001 | None                                          | No Remark\n",
            "CLM100003 | None                                          | No Remark\n",
            "CLM100061 | None                                          | No Remark\n",
            "CLM100085 | None                                          | No Remark\n",
            "CLM100080 | None                                          | No Remark\n",
            "CLM100089 | None                                          | No Remark\n",
            "CLM100027 | None                                          | No Remark\n",
            "CLM100063 | None                                          | No Remark\n",
            "CLM100070 | None                                          | No Remark\n",
            "CLM100081 | None                                          | No Remark\n",
            "CLM100068 | None                                          | No Remark\n",
            "CLM100094 | None                                          | No Remark\n",
            "CLM100066 | None                                          | No Remark\n",
            "CLM100033 | None                                          | No Remark\n",
            "CLM100039 | None                                          | No Remark\n",
            "CLM100009 | None                                          | No Remark\n",
            "CLM100051 | None                                          | No Remark\n",
            "CLM100024 | None                                          | No Remark\n",
            "CLM100074 | None                                          | No Remark\n",
            "CLM100038 | Rejection reason: Policy_expired in verification. | Policy_expired\n",
            "CLM100071 | None                                          | No Remark\n",
            "CLM100059 | Policy rejected: Policy_expired noted.        | Policy_expired\n",
            "CLM100064 | None                                          | No Remark\n",
            "CLM100077 | None                                          | No Remark\n",
            "CLM100041 | None                                          | No Remark\n",
            "CLM100015 | None                                          | No Remark\n",
            "CLM100046 | None                                          | No Remark\n",
            "CLM100048 | None                                          | No Remark\n",
            "CLM100035 | None                                          | No Remark\n",
            "CLM100005 | None                                          | No Remark\n",
            "CLM100072 | None                                          | No Remark\n",
            "CLM100098 | None                                          | No Remark\n",
            "CLM100088 | None                                          | No Remark\n",
            "CLM100083 | None                                          | No Remark\n",
            "CLM100011 | None                                          | No Remark\n",
            "CLM100079 | None                                          | No Remark\n",
            "CLM100032 | None                                          | No Remark\n",
            "CLM100047 | None                                          | No Remark\n",
            "CLM100042 | None                                          | No Remark\n",
            "CLM100036 | None                                          | No Remark\n",
            "CLM100096 | Fake_document reason led to rejection.        | Fake_document\n",
            "CLM100023 | None                                          | No Remark\n",
            "CLM100040 | None                                          | No Remark\n",
            "CLM100057 | None                                          | No Remark\n",
            "CLM100018 | None                                          | No Remark\n",
            "CLM100025 | None                                          | No Remark\n",
            "CLM100037 | None                                          | No Remark\n",
            "CLM100084 | None                                          | No Remark\n",
            "CLM100022 | None                                          | No Remark\n",
            "CLM100028 | None                                          | No Remark\n",
            "CLM100090 | Claim denied due to Policy_expired.           | Policy_expired\n",
            "CLM100019 | None                                          | No Remark\n",
            "CLM100073 | None                                          | No Remark\n",
            "CLM100034 | None                                          | No Remark\n",
            "CLM100008 | None                                          | No Remark\n",
            "CLM100067 | None                                          | No Remark\n",
            "CLM100004 | None                                          | No Remark\n",
            "CLM100076 | None                                          | No Remark\n",
            "CLM100052 | None                                          | No Remark\n",
            "CLM100092 | None                                          | No Remark\n",
            "CLM100069 | None                                          | No Remark\n",
            "CLM100082 | None                                          | No Remark\n",
            "CLM100058 | None                                          | No Remark\n",
            "CLM100087 | None                                          | No Remark\n",
            "CLM100031 | None                                          | No Remark\n",
            "CLM100086 | Case flagged as Policy_expired during audit.  | Policy_expired\n",
            "CLM100020 | None                                          | No Remark\n",
            "CLM100045 | System flagged this claim: Policy_expired.    | Policy_expired\n",
            "CLM100000 | Policy rejected: Fake_document noted.         | Fake_document\n",
            "CLM100049 | None                                          | No Remark\n",
            "CLM100093 | None                                          | No Remark\n",
            "CLM100075 | None                                          | No Remark\n",
            "CLM100065 | None                                          | No Remark\n",
            "CLM100017 | Rejection reason: Policy_expired in verification. | Policy_expired\n",
            "CLM100078 | None                                          | No Remark\n",
            "CLM100060 | None                                          | No Remark\n",
            "CLM100050 | None                                          | No Remark\n",
            "CLM100016 | None                                          | No Remark\n",
            "CLM100097 | None                                          | No Remark\n",
            "CLM100026 | None                                          | No Remark\n",
            "CLM100091 | None                                          | No Remark\n",
            "CLM100095 | None                                          | No Remark\n",
            "CLM100055 | Rejection reason: Not_Covered in verification. | Not_Covered\n",
            "CLM100056 | None                                          | No Remark\n",
            "CLM100043 | Submission error - Not_Covered found.         | Not_Covered\n",
            "CLM100030 | None                                          | No Remark\n",
            "CLM100007 | None                                          | No Remark\n",
            "CLM100002 | None                                          | No Remark\n"
          ]
        }
      ]
    }
  ]
}